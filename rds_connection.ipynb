{
 "cells": [
  {
   "cell_type": "markdown",
   "metadata": {},
   "source": [
    "## RDS Connection"
   ]
  },
  {
   "cell_type": "code",
   "execution_count": 1,
   "metadata": {},
   "outputs": [],
   "source": [
    "# importing DDL queries to create the tables\n",
    "from taesb.celery.operational_db import DB_CREATE_SCENARIOS, \\\n",
    "                                        DB_CREATE_ANTHILLS, \\\n",
    "                                        DB_CREATE_ANTS, \\\n",
    "                                        DB_CREATE_FOODS, \\\n",
    "                                        DB_CREATE_GLOBAL, \\\n",
    "                                        DB_CREATE_LOCAL, \\\n",
    "                                        DB_CREATE_ATOMIC, \\\n",
    "                                        DROP_TABLES \n",
    "\n",
    "# importing DML queries to fill the tables\n",
    "# TODO: update the current code to fill the table in AWS RDS instead the local database\n",
    "from taesb.celery.dml import INSERT_ANTS, \\\n",
    "        INSERT_ANTHILLS, \\\n",
    "        INSERT_FOODS, \\\n",
    "        INSERT_SCENARIOS                                     "
   ]
  },
  {
   "cell_type": "markdown",
   "metadata": {},
   "source": [
    "#### We will (try to) use PyGreSQL\n",
    "\n",
    "To use `import pgbd`, first run `pip pygresql`"
   ]
  },
  {
   "cell_type": "code",
   "execution_count": 1,
   "metadata": {},
   "outputs": [
    {
     "name": "stdout",
     "output_type": "stream",
     "text": [
      "Collecting pygresql\n",
      "  Downloading PyGreSQL-5.2.4-cp38-cp38-win_amd64.whl (81 kB)\n",
      "Installing collected packages: pygresql\n",
      "Successfully installed pygresql-5.2.4\n"
     ]
    }
   ],
   "source": [
    "!pip install pygresql"
   ]
  },
  {
   "cell_type": "markdown",
   "metadata": {},
   "source": [
    "Trying to use `pgdb`, but a unresolved problem disabled its use."
   ]
  },
  {
   "cell_type": "code",
   "execution_count": 2,
   "metadata": {},
   "outputs": [
    {
     "ename": "ImportError",
     "evalue": "Cannot import shared library for PyGreSQL,\nprobably because no libpq.dll is installed.\nDLL load failed while importing _pg: Não foi possível encontrar o módulo especificado.",
     "output_type": "error",
     "traceback": [
      "\u001b[1;31m---------------------------------------------------------------------------\u001b[0m",
      "\u001b[1;31mImportError\u001b[0m                               Traceback (most recent call last)",
      "\u001b[1;32mc:\\ProgramData\\Anaconda3\\lib\\site-packages\\pgdb.py\u001b[0m in \u001b[0;36m<module>\u001b[1;34m\u001b[0m\n\u001b[0;32m     69\u001b[0m \u001b[1;32mtry\u001b[0m\u001b[1;33m:\u001b[0m\u001b[1;33m\u001b[0m\u001b[1;33m\u001b[0m\u001b[0m\n\u001b[1;32m---> 70\u001b[1;33m     \u001b[1;32mfrom\u001b[0m \u001b[0m_pg\u001b[0m \u001b[1;32mimport\u001b[0m \u001b[1;33m*\u001b[0m\u001b[1;33m\u001b[0m\u001b[1;33m\u001b[0m\u001b[0m\n\u001b[0m\u001b[0;32m     71\u001b[0m \u001b[1;32mexcept\u001b[0m \u001b[0mImportError\u001b[0m \u001b[1;32mas\u001b[0m \u001b[0me\u001b[0m\u001b[1;33m:\u001b[0m\u001b[1;33m\u001b[0m\u001b[1;33m\u001b[0m\u001b[0m\n",
      "\u001b[1;31mImportError\u001b[0m: DLL load failed while importing _pg: Não foi possível encontrar o módulo especificado.",
      "\nDuring handling of the above exception, another exception occurred:\n",
      "\u001b[1;31mImportError\u001b[0m                               Traceback (most recent call last)",
      "\u001b[1;32m<ipython-input-2-186d7a2b6fba>\u001b[0m in \u001b[0;36m<module>\u001b[1;34m\u001b[0m\n\u001b[0;32m      1\u001b[0m \u001b[1;31m# Using PyGreSQL (pgdb)\u001b[0m\u001b[1;33m\u001b[0m\u001b[1;33m\u001b[0m\u001b[1;33m\u001b[0m\u001b[0m\n\u001b[1;32m----> 2\u001b[1;33m \u001b[1;32mimport\u001b[0m \u001b[0mpgdb\u001b[0m\u001b[1;33m\u001b[0m\u001b[1;33m\u001b[0m\u001b[0m\n\u001b[0m\u001b[0;32m      3\u001b[0m \u001b[1;33m\u001b[0m\u001b[0m\n\u001b[0;32m      4\u001b[0m conn = pgdb.connect(\n\u001b[0;32m      5\u001b[0m         \u001b[0mhost\u001b[0m \u001b[1;33m=\u001b[0m \u001b[1;34m\"database-postgres-tjg.cvb1csfwepbn.us-east-1.rds.amazonaws.com\"\u001b[0m\u001b[1;33m,\u001b[0m\u001b[1;33m\u001b[0m\u001b[1;33m\u001b[0m\u001b[0m\n",
      "\u001b[1;32mc:\\ProgramData\\Anaconda3\\lib\\site-packages\\pgdb.py\u001b[0m in \u001b[0;36m<module>\u001b[1;34m\u001b[0m\n\u001b[0;32m     94\u001b[0m     \u001b[1;32mif\u001b[0m \u001b[0me\u001b[0m\u001b[1;33m:\u001b[0m\u001b[1;33m\u001b[0m\u001b[1;33m\u001b[0m\u001b[0m\n\u001b[0;32m     95\u001b[0m         \u001b[1;31m# note: we could use \"raise from e\" here in Python 3\u001b[0m\u001b[1;33m\u001b[0m\u001b[1;33m\u001b[0m\u001b[1;33m\u001b[0m\u001b[0m\n\u001b[1;32m---> 96\u001b[1;33m         raise ImportError(\n\u001b[0m\u001b[0;32m     97\u001b[0m             \u001b[1;34m\"Cannot import shared library for PyGreSQL,\\n\"\u001b[0m\u001b[1;33m\u001b[0m\u001b[1;33m\u001b[0m\u001b[0m\n\u001b[0;32m     98\u001b[0m             \"probably because no %s is installed.\\n%s\" % (libpq, e))\n",
      "\u001b[1;31mImportError\u001b[0m: Cannot import shared library for PyGreSQL,\nprobably because no libpq.dll is installed.\nDLL load failed while importing _pg: Não foi possível encontrar o módulo especificado."
     ]
    }
   ],
   "source": [
    "# Using PyGreSQL (pgdb)\n",
    "import pgdb\n",
    "\n",
    "db = pgdb.connect(\n",
    "        host = \"database-postgres-tjg.cvb1csfwepbn.us-east-1.rds.amazonaws.com\",\n",
    "        user=\"postgres\",\n",
    "        password=\"passwordpassword\",\n",
    "        database=\"database-postgres-tjg\")"
   ]
  },
  {
   "cell_type": "markdown",
   "metadata": {},
   "source": [
    "Now, we are going to use `psycopg2` to make the connection with the AWS"
   ]
  },
  {
   "cell_type": "code",
   "execution_count": 3,
   "metadata": {},
   "outputs": [],
   "source": [
    "# importing\n",
    "import psycopg2\n",
    "from psycopg2.extensions import ISOLATION_LEVEL_AUTOCOMMIT\n",
    "\n",
    "# creating a connection\n",
    "db = psycopg2.connect(\n",
    "        host = \"database-postgres-tjg.cvb1csfwepbn.us-east-1.rds.amazonaws.com\",\n",
    "        user=\"postgres\",\n",
    "        password=\"passwordpassword\",\n",
    "        database=\"operational_tjg\" #database previously created\n",
    "        )\n",
    "\n",
    "# setting the isolation level\n",
    "db.set_isolation_level(ISOLATION_LEVEL_AUTOCOMMIT)"
   ]
  },
  {
   "cell_type": "markdown",
   "metadata": {},
   "source": [
    "> Obs.: the field `database` is already set because it was previously created in python. To know how it was made, take a look at [Creating `operational_tjg` database](#creating-operational_tjg-database)"
   ]
  },
  {
   "cell_type": "code",
   "execution_count": 4,
   "metadata": {},
   "outputs": [],
   "source": [
    "# initializing cursor\n",
    "cursor = db.cursor()"
   ]
  },
  {
   "cell_type": "code",
   "execution_count": 5,
   "metadata": {},
   "outputs": [
    {
     "data": {
      "text/plain": [
       "[('PostgreSQL 13.4 on x86_64-pc-linux-gnu, compiled by gcc (GCC) 7.3.1 20180712 (Red Hat 7.3.1-12), 64-bit',)]"
      ]
     },
     "execution_count": 5,
     "metadata": {},
     "output_type": "execute_result"
    }
   ],
   "source": [
    "# check version\n",
    "cursor.execute(\"SELECT version()\")\n",
    "cursor.fetchall()"
   ]
  },
  {
   "cell_type": "code",
   "execution_count": 6,
   "metadata": {},
   "outputs": [
    {
     "data": {
      "text/plain": [
       "[('scenarios',), ('anthills',), ('ants',), ('foods',), ('stats_global',)]"
      ]
     },
     "execution_count": 6,
     "metadata": {},
     "output_type": "execute_result"
    }
   ],
   "source": [
    "# list tables\n",
    "show_tables_query = \"\"\"\n",
    "SELECT relname \n",
    "FROM pg_class \n",
    "WHERE relkind='r' AND relname !~ '^(pg_|sql_)';\n",
    "\"\"\"\n",
    "cursor.execute(show_tables_query)\n",
    "\n",
    "cursor.fetchall()"
   ]
  },
  {
   "cell_type": "markdown",
   "metadata": {},
   "source": [
    "### Creating tables"
   ]
  },
  {
   "cell_type": "code",
   "execution_count": 7,
   "metadata": {},
   "outputs": [],
   "source": [
    "cursor.execute(DB_CREATE_SCENARIOS)\n",
    "cursor.execute(DB_CREATE_ANTHILLS)\n",
    "cursor.execute(DB_CREATE_ANTS)\n",
    "cursor.execute(DB_CREATE_FOODS)\n",
    "cursor.execute(DB_CREATE_GLOBAL)\n",
    "cursor.execute(DB_CREATE_LOCAL)\n",
    "cursor.execute(DB_CREATE_ATOMIC)\n",
    "\n",
    "cursor.connection.commit()"
   ]
  },
  {
   "cell_type": "code",
   "execution_count": 8,
   "metadata": {},
   "outputs": [
    {
     "data": {
      "text/plain": [
       "[('scenarios',),\n",
       " ('anthills',),\n",
       " ('ants',),\n",
       " ('foods',),\n",
       " ('stats_global',),\n",
       " ('stats_local',),\n",
       " ('stats_atomic',)]"
      ]
     },
     "execution_count": 8,
     "metadata": {},
     "output_type": "execute_result"
    }
   ],
   "source": [
    "cursor.execute(show_tables_query)\n",
    "\n",
    "cursor.fetchall()"
   ]
  },
  {
   "cell_type": "code",
   "execution_count": 21,
   "metadata": {},
   "outputs": [
    {
     "data": {
      "text/plain": [
       "[('scenario_id', 'character varying', 'NO'),\n",
       " ('execution_time', 'integer', 'YES'),\n",
       " ('active', 'integer', 'YES')]"
      ]
     },
     "execution_count": 21,
     "metadata": {},
     "output_type": "execute_result"
    }
   ],
   "source": [
    "# check `scenarios` structure\n",
    "cursor.execute(\"\"\"\n",
    "SELECT column_name, data_type, is_nullable\n",
    "FROM information_schema.columns\n",
    "WHERE table_name = 'scenarios';\n",
    "\"\"\")\n",
    "\n",
    "cursor.fetchall()"
   ]
  },
  {
   "cell_type": "code",
   "execution_count": 22,
   "metadata": {},
   "outputs": [],
   "source": [
    "# closing connection\n",
    "cursor.close()"
   ]
  },
  {
   "cell_type": "markdown",
   "metadata": {},
   "source": [
    "### Inserting data"
   ]
  },
  {
   "cell_type": "markdown",
   "metadata": {},
   "source": [
    "To insert the data, a update in the current code in `task.py` is needed."
   ]
  },
  {
   "cell_type": "markdown",
   "metadata": {},
   "source": [
    "---\n",
    "### Appendix \n",
    "---\n",
    "---"
   ]
  },
  {
   "cell_type": "markdown",
   "metadata": {},
   "source": [
    "\n",
    "#### Creating `operational_tjg` database\n"
   ]
  },
  {
   "cell_type": "code",
   "execution_count": null,
   "metadata": {},
   "outputs": [],
   "source": [
    "# creating a connection\n",
    "db = psycopg2.connect(\n",
    "        host = \"database-postgres-tjg.cvb1csfwepbn.us-east-1.rds.amazonaws.com\",\n",
    "        user=\"postgres\",\n",
    "        password=\"passwordpassword\"\n",
    "        )\n",
    "\n",
    "# setting the isolation level\n",
    "db.set_isolation_level(ISOLATION_LEVEL_AUTOCOMMIT)"
   ]
  },
  {
   "cell_type": "code",
   "execution_count": null,
   "metadata": {},
   "outputs": [],
   "source": [
    "# initializing cursor\n",
    "cursor = db.cursor()"
   ]
  },
  {
   "cell_type": "code",
   "execution_count": null,
   "metadata": {},
   "outputs": [],
   "source": [
    "# creating database\n",
    "cursor.execute(\"CREATE DATABASE operational_tjg\")\n",
    "\n",
    "# committing changes\n",
    "cursor.connection.commit()\n",
    "\n",
    "# closing connection\n",
    "cursor.close()"
   ]
  }
 ],
 "metadata": {
  "interpreter": {
   "hash": "ad2bdc8ecc057115af97d19610ffacc2b4e99fae6737bb82f5d7fb13d2f2c186"
  },
  "kernelspec": {
   "display_name": "Python 3.8.8 ('base')",
   "language": "python",
   "name": "python3"
  },
  "language_info": {
   "codemirror_mode": {
    "name": "ipython",
    "version": 3
   },
   "file_extension": ".py",
   "mimetype": "text/x-python",
   "name": "python",
   "nbconvert_exporter": "python",
   "pygments_lexer": "ipython3",
   "version": "3.8.8"
  },
  "orig_nbformat": 4
 },
 "nbformat": 4,
 "nbformat_minor": 2
}
