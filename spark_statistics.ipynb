{
 "cells": [
  {
   "cell_type": "code",
   "execution_count": 25,
   "metadata": {},
   "outputs": [],
   "source": [
    "import pyspark\n",
    "from pyspark.sql import SparkSession\n",
    "from app import read_table\n",
    "import pyspark.sql.functions as F   "
   ]
  },
  {
   "cell_type": "code",
   "execution_count": 13,
   "metadata": {},
   "outputs": [],
   "source": [
    "# reading tables\n",
    "scenarios = read_table(\"scenarios\") \n",
    "anthills = read_table(\"anthills\") \n",
    "foods = read_table(\"foods\") \n",
    "ants = read_table(\"ants\") "
   ]
  },
  {
   "cell_type": "code",
   "execution_count": 36,
   "metadata": {},
   "outputs": [],
   "source": [
    "#Número total de cenários.\n",
    "number_of_scenarios = scenarios.count()\n",
    "\n",
    "#Número total de formigueiros.\n",
    "number_of_anthills = anthills.count()\n"
   ]
  },
  {
   "cell_type": "code",
   "execution_count": 37,
   "metadata": {},
   "outputs": [
    {
     "data": {
      "text/plain": [
       "38"
      ]
     },
     "execution_count": 37,
     "metadata": {},
     "output_type": "execute_result"
    }
   ],
   "source": [
    "foods.agg(F.sum(\"current_volume\")).collect()[0][0]"
   ]
  },
  {
   "cell_type": "code",
   "execution_count": 42,
   "metadata": {},
   "outputs": [],
   "source": [
    "#Número total de formigas\n",
    "number_of_ants = ants.count()\n",
    "#Número de formigas procurando comida.\n",
    "ants_searching_food = ants.agg(F.sum(\"searching_food\")).collect()[0][0]\n",
    "#Número de formigas carregando comida.\n",
    "ants_carrying_food = number_of_ants - ants_searching_food"
   ]
  },
  {
   "cell_type": "code",
   "execution_count": 46,
   "metadata": {},
   "outputs": [
    {
     "data": {
      "text/plain": [
       "6886"
      ]
     },
     "execution_count": 46,
     "metadata": {},
     "output_type": "execute_result"
    }
   ],
   "source": [
    "#Número de unidades na fonte de comida.\n",
    "food_at_the_food_source = foods.agg(F.sum(\"current_volume\")).collect()[0][0]\n",
    "#Número de unidades em trânsito (sendo carregada).\n",
    "food_in_transit = ants_carrying_food\n",
    "#Número de unidades no formigueiro\n",
    "food_in_the_anthills = anthills.agg(F.sum(\"food_storage\")).collect()[0][0]\n",
    "#Número total de unidades de comida\n",
    "total_number_of_food = food_at_the_food_source+food_in_transit+food_in_the_anthills\n"
   ]
  },
  {
   "cell_type": "code",
   "execution_count": 43,
   "metadata": {},
   "outputs": [
    {
     "name": "stdout",
     "output_type": "stream",
     "text": [
      "+--------------------+--------+------------+----------+--------------------+\n",
      "|          anthill_id|    name|food_storage|total_ants|         scenario_id|\n",
      "+--------------------+--------+------------+----------+--------------------+\n",
      "|a867ba8a-dffb-404...|Spartans|          51|        15|c1909c00-2736-493...|\n",
      "|845ee4a2-6a96-457...|    Jedi|        1002|        99|c1909c00-2736-493...|\n",
      "|e756fc4b-876a-406...|Spartans|          42|        15|89b01bc5-9ff8-436...|\n",
      "|add97452-06e4-473...|Spartans|          61|        15|f2dcd6fb-ca26-4ea...|\n",
      "|a4784f56-36e9-478...|    Jedi|        1001|        99|f2dcd6fb-ca26-4ea...|\n",
      "|8c456727-4d27-41c...|Spartans|          70|        15|f73cca20-b709-480...|\n",
      "|52bf6f29-6def-4a6...|    Jedi|        1002|        99|f73cca20-b709-480...|\n",
      "|85011941-f98c-479...|    Jedi|        1002|        99|89b01bc5-9ff8-436...|\n",
      "|9f5a38dc-7fd9-4ba...|Spartans|          58|        15|38a284d8-1331-42a...|\n",
      "|6513a85e-9eb3-40b...|    Jedi|        1003|        99|38a284d8-1331-42a...|\n",
      "|bb70e62a-36fe-410...|Spartans|          31|        15|5e8b049e-8dbb-413...|\n",
      "|dca0c7c0-5513-44e...|    Jedi|        1001|        99|5e8b049e-8dbb-413...|\n",
      "+--------------------+--------+------------+----------+--------------------+\n",
      "\n"
     ]
    }
   ],
   "source": [
    "anthills.show()"
   ]
  }
 ],
 "metadata": {
  "interpreter": {
   "hash": "9a01555018e551721083224cdb90295225b0325aba33856a84c48633066241e3"
  },
  "kernelspec": {
   "display_name": "Python 3.9.7 ('formiga')",
   "language": "python",
   "name": "python3"
  },
  "language_info": {
   "codemirror_mode": {
    "name": "ipython",
    "version": 3
   },
   "file_extension": ".py",
   "mimetype": "text/x-python",
   "name": "python",
   "nbconvert_exporter": "python",
   "pygments_lexer": "ipython3",
   "version": "3.9.7"
  },
  "orig_nbformat": 4
 },
 "nbformat": 4,
 "nbformat_minor": 2
}
